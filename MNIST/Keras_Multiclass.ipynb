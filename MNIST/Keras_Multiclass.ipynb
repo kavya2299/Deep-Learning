{
  "nbformat": 4,
  "nbformat_minor": 0,
  "metadata": {
    "colab": {
      "name": "MNIST using Keras Multiclass",
      "version": "0.3.2",
      "provenance": [],
      "collapsed_sections": [],
      "include_colab_link": true
    },
    "kernelspec": {
      "name": "python3",
      "display_name": "Python 3"
    },
    "accelerator": "GPU"
  },
  "cells": [
    {
      "cell_type": "markdown",
      "metadata": {
        "id": "view-in-github",
        "colab_type": "text"
      },
      "source": [
        "<a href=\"https://colab.research.google.com/github/kavya2299/Deep-Learning/blob/master/MNIST_using_Keras_Multiclass.ipynb\" target=\"_parent\"><img src=\"https://colab.research.google.com/assets/colab-badge.svg\" alt=\"Open In Colab\"/></a>"
      ]
    },
    {
      "cell_type": "markdown",
      "metadata": {
        "id": "7dZlZ9XfLnH4",
        "colab_type": "text"
      },
      "source": [
        "#Using keras datasets"
      ]
    },
    {
      "cell_type": "code",
      "metadata": {
        "id": "pa1OtU4_KMuF",
        "colab_type": "code",
        "colab": {}
      },
      "source": [
        "import tensorflow as tf\n",
        "from tensorflow import keras\n",
        "from keras.datasets import mnist\n",
        "(train_images,train_labels), (test_images,test_labels)=mnist.load_data()"
      ],
      "execution_count": 0,
      "outputs": []
    },
    {
      "cell_type": "markdown",
      "metadata": {
        "id": "m2n99xKYMJ2L",
        "colab_type": "text"
      },
      "source": [
        "Defining the Architecture"
      ]
    },
    {
      "cell_type": "code",
      "metadata": {
        "id": "Q32uM9MtMJO2",
        "colab_type": "code",
        "colab": {}
      },
      "source": [
        "from keras import models\n",
        "from keras import layers\n",
        "from keras import regularizers\n",
        "\n",
        "\n",
        "network=models.Sequential()\n",
        "network.add(layers.Dense(512,kernel_regularizer=regularizers.l2(0.00001),activation='relu',input_shape=(28*28,))) # tested on l2 reg parameter being 0.1,0.001,0.0001 and finally the best performance was on 0.00001 \n",
        "network.add(layers.Dense(10,activation='softmax')) # softmax because tehy all add up to 1"
      ],
      "execution_count": 0,
      "outputs": []
    },
    {
      "cell_type": "markdown",
      "metadata": {
        "id": "oCoHi2hylvse",
        "colab_type": "text"
      },
      "source": [
        "Compilation"
      ]
    },
    {
      "cell_type": "code",
      "metadata": {
        "id": "EcLcosIblzRu",
        "colab_type": "code",
        "colab": {}
      },
      "source": [
        "network.compile(optimizer='rmsprop',loss='categorical_crossentropy',metrics=['accuracy'])"
      ],
      "execution_count": 0,
      "outputs": []
    },
    {
      "cell_type": "markdown",
      "metadata": {
        "id": "NN7bXvAWkL-6",
        "colab_type": "text"
      },
      "source": [
        "Preprocessing "
      ]
    },
    {
      "cell_type": "code",
      "metadata": {
        "id": "lRVz-m-JkR4Q",
        "colab_type": "code",
        "colab": {}
      },
      "source": [
        "train_images=train_images.reshape((60000,28*28)) #reshaping\n",
        "train_images=train_images.astype('float32')/255 #normalizing \n",
        "\n",
        "test_images=test_images.reshape((10000,28*28)) \n",
        "test_images=test_images.astype('float32')/255\n"
      ],
      "execution_count": 0,
      "outputs": []
    },
    {
      "cell_type": "markdown",
      "metadata": {
        "id": "BOJc6WT4k1Lb",
        "colab_type": "text"
      },
      "source": [
        "Categorical Encoding\n"
      ]
    },
    {
      "cell_type": "code",
      "metadata": {
        "id": "njRkzSrtk4j0",
        "colab_type": "code",
        "colab": {}
      },
      "source": [
        "from keras.utils import to_categorical\n",
        "\n",
        "train_labels=to_categorical(train_labels)\n",
        "test_labels=to_categorical(test_labels)"
      ],
      "execution_count": 0,
      "outputs": []
    },
    {
      "cell_type": "markdown",
      "metadata": {
        "id": "FK-JiOrZleab",
        "colab_type": "text"
      },
      "source": [
        "#Training the network 1"
      ]
    },
    {
      "cell_type": "code",
      "metadata": {
        "id": "-aPehECBJ6mW",
        "colab_type": "code",
        "colab": {}
      },
      "source": [
        "#defining a validation set\n",
        "x_val = train_images[:10000]\n",
        "partial_x_train = train_images[10000:]\n",
        "y_val = train_labels[:10000]\n",
        "partial_y_train = train_labels[10000:]"
      ],
      "execution_count": 0,
      "outputs": []
    },
    {
      "cell_type": "code",
      "metadata": {
        "id": "3RFP6qbzldVp",
        "colab_type": "code",
        "outputId": "f172b988-ada0-45fa-f654-b48092c2223a",
        "colab": {
          "base_uri": "https://localhost:8080/",
          "height": 224
        }
      },
      "source": [
        "model=network.fit(train_images,train_labels,epochs=5,batch_size=512,validation_data=(x_val,y_val))"
      ],
      "execution_count": 0,
      "outputs": [
        {
          "output_type": "stream",
          "text": [
            "Train on 60000 samples, validate on 10000 samples\n",
            "Epoch 1/5\n",
            "60000/60000 [==============================] - 2s 27us/step - loss: 0.3993 - acc: 0.8896 - val_loss: 0.2532 - val_acc: 0.9291\n",
            "Epoch 2/5\n",
            "60000/60000 [==============================] - 1s 13us/step - loss: 0.1798 - acc: 0.9495 - val_loss: 0.1461 - val_acc: 0.9577\n",
            "Epoch 3/5\n",
            "60000/60000 [==============================] - 1s 12us/step - loss: 0.1235 - acc: 0.9658 - val_loss: 0.1603 - val_acc: 0.9516\n",
            "Epoch 4/5\n",
            "60000/60000 [==============================] - 1s 13us/step - loss: 0.0948 - acc: 0.9753 - val_loss: 0.0779 - val_acc: 0.9805\n",
            "Epoch 5/5\n",
            "60000/60000 [==============================] - 1s 13us/step - loss: 0.0759 - acc: 0.9799 - val_loss: 0.0615 - val_acc: 0.9849\n"
          ],
          "name": "stdout"
        }
      ]
    },
    {
      "cell_type": "markdown",
      "metadata": {
        "id": "upuDOfahmezE",
        "colab_type": "text"
      },
      "source": [
        "In the above, we have reached a good accuracy on training data."
      ]
    },
    {
      "cell_type": "markdown",
      "metadata": {
        "id": "SolM5OmWxj9O",
        "colab_type": "text"
      },
      "source": [
        "Plotting the accuracy and loss curves of training and validation sets"
      ]
    },
    {
      "cell_type": "code",
      "metadata": {
        "id": "DCHUEJqzxsg1",
        "colab_type": "code",
        "outputId": "39ffeb14-3456-4887-e1a7-f964350defc3",
        "colab": {
          "base_uri": "https://localhost:8080/",
          "height": 295
        }
      },
      "source": [
        "import matplotlib.pyplot as plt\n",
        "\n",
        "#defining the variables, loss and val_loss\n",
        "loss = model.history['loss']\n",
        "val_loss = model.history['val_loss']\n",
        "epochs = range(1, len(loss) + 1)\n",
        "acc=model.history['acc']\n",
        "val_acc=model.history['val_acc']\n",
        "epochs = range(1, len(loss) + 1)\n",
        "\n",
        "#plotting curves\n",
        "plt.plot(epochs, loss, label='Training loss')\n",
        "plt.plot(epochs, val_loss, label='Validation loss')\n",
        "plt.plot(epochs, acc,label='Training acc')\n",
        "plt.plot(epochs, val_acc, label='Validation acc')\n",
        "\n",
        "plt.title('Training and validation losses')\n",
        "\n",
        "#labelling the axes\n",
        "plt.xlabel('Epochs')\n",
        "plt.ylabel('Loss')\n",
        "\n",
        "#obtaining legend\n",
        "plt.legend()\n",
        "#display \n",
        "plt.show()"
      ],
      "execution_count": 0,
      "outputs": [
        {
          "output_type": "display_data",
          "data": {
            "image/png": "[encoded data removed]",
            "text/plain": [
              "<Figure size 432x288 with 1 Axes>"
            ]
          },
          "metadata": {
            "tags": []
          }
        }
      ]
    },
    {
      "cell_type": "markdown",
      "metadata": {
        "id": "oY2n41bAmbH-",
        "colab_type": "text"
      },
      "source": [
        "Accuracy of model"
      ]
    },
    {
      "cell_type": "code",
      "metadata": {
        "id": "cGCy28X6mahn",
        "colab_type": "code",
        "outputId": "66724e2e-7510-46a5-d3d8-a261d85aeff1",
        "colab": {
          "base_uri": "https://localhost:8080/",
          "height": 51
        }
      },
      "source": [
        "test_loss,test_acc=network.evaluate(test_images,test_labels)\n",
        "print('test accuracy:',test_acc)"
      ],
      "execution_count": 0,
      "outputs": [
        {
          "output_type": "stream",
          "text": [
            "10000/10000 [==============================] - 1s 60us/step\n",
            "test accuracy: 0.9792\n"
          ],
          "name": "stdout"
        }
      ]
    },
    {
      "cell_type": "markdown",
      "metadata": {
        "id": "jh2QZxmMLKBD",
        "colab_type": "text"
      },
      "source": [
        "The difference in the accuracies of both test and train datasets is attributed to the overfitting that is taking place. This is overcome by using l2 regularization. "
      ]
    },
    {
      "cell_type": "markdown",
      "metadata": {
        "id": "V63qI3do6ylD",
        "colab_type": "text"
      },
      "source": [
        "#Training the network 2 \n",
        "(validation sets at random)"
      ]
    },
    {
      "cell_type": "code",
      "metadata": {
        "id": "FAEyY0jPVw6W",
        "colab_type": "code",
        "outputId": "80db4ae0-44a8-44dc-8836-43ace16ca142",
        "colab": {
          "base_uri": "https://localhost:8080/",
          "height": 224
        }
      },
      "source": [
        "model=network.fit(train_images,train_labels,epochs=5,batch_size=512,validation_split=0.2,shuffle=True)"
      ],
      "execution_count": 0,
      "outputs": [
        {
          "output_type": "stream",
          "text": [
            "Train on 48000 samples, validate on 12000 samples\n",
            "Epoch 1/5\n",
            "48000/48000 [==============================] - 2s 31us/step - loss: 0.4437 - acc: 0.8771 - val_loss: 0.2479 - val_acc: 0.9354\n",
            "Epoch 2/5\n",
            "48000/48000 [==============================] - 1s 13us/step - loss: 0.2068 - acc: 0.9421 - val_loss: 0.1781 - val_acc: 0.9502\n",
            "Epoch 3/5\n",
            "48000/48000 [==============================] - 1s 13us/step - loss: 0.1476 - acc: 0.9603 - val_loss: 0.1392 - val_acc: 0.9603\n",
            "Epoch 4/5\n",
            "48000/48000 [==============================] - 1s 13us/step - loss: 0.1127 - acc: 0.9696 - val_loss: 0.1153 - val_acc: 0.9693\n",
            "Epoch 5/5\n",
            "48000/48000 [==============================] - 1s 13us/step - loss: 0.0897 - acc: 0.9765 - val_loss: 0.1057 - val_acc: 0.9718\n"
          ],
          "name": "stdout"
        }
      ]
    },
    {
      "cell_type": "markdown",
      "metadata": {
        "id": "Dvc3VsSivpzR",
        "colab_type": "text"
      },
      "source": [
        "Plotting the train and validation losses"
      ]
    },
    {
      "cell_type": "code",
      "metadata": {
        "id": "aD5t_K9svo2k",
        "colab_type": "code",
        "outputId": "b379e38a-1adf-42fa-d0e4-489c79f6a6e4",
        "colab": {
          "base_uri": "https://localhost:8080/",
          "height": 295
        }
      },
      "source": [
        "import matplotlib.pyplot as plt\n",
        "\n",
        "#defining the variables, loss and val_loss\n",
        "loss = model.history['loss']\n",
        "val_loss = model.history['val_loss']\n",
        "epochs = range(1, len(loss) + 1)\n",
        "acc=model.history['acc']\n",
        "val_acc=model.history['val_acc']\n",
        "epochs = range(1, len(loss) + 1)\n",
        "\n",
        "#plotting curves\n",
        "plt.plot(epochs, loss, label='Training loss')\n",
        "plt.plot(epochs, val_loss, label='Validation loss')\n",
        "plt.plot(epochs, acc,label='Training acc')\n",
        "plt.plot(epochs, val_acc, label='Validation acc')\n",
        "\n",
        "plt.title('Training and validation losses')\n",
        "\n",
        "#labelling the axes\n",
        "plt.xlabel('Epochs')\n",
        "plt.ylabel('Loss')\n",
        "\n",
        "#obtaining legend\n",
        "plt.legend()\n",
        "#display \n",
        "plt.show()"
      ],
      "execution_count": 0,
      "outputs": [
        {
          "output_type": "display_data",
          "data": {
            "image/png": "[encoded data removed]",
            "text/plain": [
              "<Figure size 432x288 with 1 Axes>"
            ]
          },
          "metadata": {
            "tags": []
          }
        }
      ]
    },
    {
      "cell_type": "code",
      "metadata": {
        "id": "CJxSkOjxXKHa",
        "colab_type": "code",
        "outputId": "071ca3b4-854b-4f94-bf7b-c3bdb717acf1",
        "colab": {
          "base_uri": "https://localhost:8080/",
          "height": 51
        }
      },
      "source": [
        "test_loss,test_acc=network.evaluate(test_images,test_labels)\n",
        "print('test accuracy:',test_acc)"
      ],
      "execution_count": 0,
      "outputs": [
        {
          "output_type": "stream",
          "text": [
            "10000/10000 [==============================] - 1s 57us/step\n",
            "test accuracy: 0.9724\n"
          ],
          "name": "stdout"
        }
      ]
    },
    {
      "cell_type": "code",
      "metadata": {
        "id": "sDUiVnlzZQbI",
        "colab_type": "code",
        "outputId": "479b0821-6b7f-41ac-c9e4-129eec57d5c6",
        "colab": {
          "base_uri": "https://localhost:8080/",
          "height": 207
        }
      },
      "source": [
        "model=network.fit(train_images,train_labels,epochs=5,batch_size=512)"
      ],
      "execution_count": 0,
      "outputs": [
        {
          "output_type": "stream",
          "text": [
            "Epoch 1/5\n",
            "60000/60000 [==============================] - 1s 12us/step - loss: 0.0790 - acc: 0.9796\n",
            "Epoch 2/5\n",
            "60000/60000 [==============================] - 1s 12us/step - loss: 0.0643 - acc: 0.9838\n",
            "Epoch 3/5\n",
            "60000/60000 [==============================] - 1s 12us/step - loss: 0.0550 - acc: 0.9863\n",
            "Epoch 4/5\n",
            "60000/60000 [==============================] - 1s 12us/step - loss: 0.0465 - acc: 0.9894\n",
            "Epoch 5/5\n",
            "60000/60000 [==============================] - 1s 12us/step - loss: 0.0404 - acc: 0.9911\n"
          ],
          "name": "stdout"
        }
      ]
    },
    {
      "cell_type": "code",
      "metadata": {
        "id": "YaSg3Vn4ZU_w",
        "colab_type": "code",
        "outputId": "6f128deb-9885-4daa-a6c4-25be03f95753",
        "colab": {
          "base_uri": "https://localhost:8080/",
          "height": 51
        }
      },
      "source": [
        "test_loss,test_acc=network.evaluate(test_images,test_labels)\n",
        "print('test accuracy:',test_acc)"
      ],
      "execution_count": 0,
      "outputs": [
        {
          "output_type": "stream",
          "text": [
            "10000/10000 [==============================] - 1s 56us/step\n",
            "test accuracy: 0.9816\n"
          ],
          "name": "stdout"
        }
      ]
    }
  ]
}
